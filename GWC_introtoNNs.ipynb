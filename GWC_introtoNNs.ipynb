{
  "nbformat": 4,
  "nbformat_minor": 0,
  "metadata": {
    "colab": {
      "provenance": [],
      "authorship_tag": "ABX9TyNh2ePh4R9AjxtV84QuagmR"
    },
    "kernelspec": {
      "name": "python3",
      "display_name": "Python 3"
    },
    "language_info": {
      "name": "python"
    }
  },
  "cells": [
    {
      "cell_type": "code",
      "execution_count": 2,
      "metadata": {
        "id": "ix90fnez4Pcz"
      },
      "outputs": [],
      "source": [
        "from sklearn import datasets\n",
        "from sklearn.model_selection import train_test_split\n",
        "from sklearn.preprocessing import StandardScaler, OneHotEncoder\n",
        "import numpy as np\n",
        "import tensorflow as tf\n",
        "from tensorflow.keras import layers\n",
        "import matplotlib.pyplot as plt #allows us to plot our results if desired\n"
      ]
    },
    {
      "cell_type": "markdown",
      "source": [
        "# GWC@VT: Intro to Neural Networks\n",
        "In this notebook, we'll explore neural networks for a classification machine learning problem, using the famous Iris dataset."
      ],
      "metadata": {
        "id": "DB_MtI5a4VjG"
      }
    },
    {
      "cell_type": "markdown",
      "source": [
        "## Data Preparation"
      ],
      "metadata": {
        "id": "cbn4Ygnw4eV1"
      }
    },
    {
      "cell_type": "code",
      "source": [
        "#with sklearn datasets, we can go ahead and import the data\n",
        "#as a label (3 iris classes) and features (4 features)\n",
        "iris = datasets.load_iris()\n",
        "X = iris.data\n",
        "y = iris.target"
      ],
      "metadata": {
        "id": "fyicwODK4dUr"
      },
      "execution_count": 4,
      "outputs": []
    },
    {
      "cell_type": "code",
      "source": [
        "#next, we'll need to one-hot encode our label, since we're working with categorial data\n",
        "encoder = OneHotEncoder(sparse_output=False)\n",
        "y_onehot = encoder.fit_transform(y.reshape(-1, 1))"
      ],
      "metadata": {
        "id": "A_b4o95T402_"
      },
      "execution_count": 5,
      "outputs": []
    },
    {
      "cell_type": "markdown",
      "source": [
        "Now that our data is ready, let's split it into our training and test data"
      ],
      "metadata": {
        "id": "siZIn0G-48-W"
      }
    },
    {
      "cell_type": "code",
      "source": [
        "X_train, X_test, y_train, y_test = train_test_split(X, y_onehot, test_size=0.2, random_state=42, stratify=y)\n"
      ],
      "metadata": {
        "id": "a7fHSVjR5CK4"
      },
      "execution_count": 6,
      "outputs": []
    },
    {
      "cell_type": "code",
      "source": [
        "#let's also scale our X features.\n",
        "scaler = StandardScaler()\n",
        "X_train = scaler.fit_transform(X_train)\n",
        "X_test = scaler.transform(X_test)\n"
      ],
      "metadata": {
        "id": "VNLVlawJ5OqP"
      },
      "execution_count": 8,
      "outputs": []
    },
    {
      "cell_type": "markdown",
      "source": [
        "## Constructing our Model\n",
        "Now it's time to start building the pieces of our model! Unlike some of the simpler models, we'll actually build the model, its layers, and its optimization and loss functions separately, then compile them together.\n",
        "\n",
        "\n"
      ],
      "metadata": {
        "id": "xmLARJz65T0b"
      }
    },
    {
      "cell_type": "code",
      "source": [
        "#1. create model object\n",
        "model = tf.keras.Sequential([\n",
        "    layers.Input(shape=(X_train.shape[1],)), #4 input features\n",
        "    layers.Dense(64, activation='relu'),\n",
        "    layers.Dense(32, activation='relu'),\n",
        "    layers.Dense(16, activation='relu'),\n",
        "    layers.Dense(3, activation='softmax') #our output layer-- uses softmax to categorize\n",
        "])"
      ],
      "metadata": {
        "id": "YxSsGUVE5fjv"
      },
      "execution_count": 20,
      "outputs": []
    },
    {
      "cell_type": "code",
      "source": [
        "#compile all our features together!\n",
        "model.compile(optimizer=\"adam\", loss=\"categorical_crossentropy\", metrics=[\"accuracy\"])\n"
      ],
      "metadata": {
        "id": "SLtddP4p5wz3"
      },
      "execution_count": 21,
      "outputs": []
    },
    {
      "cell_type": "markdown",
      "source": [
        "## Training our Model\n",
        "Now, we can train the model with model.fit"
      ],
      "metadata": {
        "id": "sx4rA2VL52XY"
      }
    },
    {
      "cell_type": "code",
      "source": [
        "num_epochs = 10"
      ],
      "metadata": {
        "id": "lFoJj5Qk67q1"
      },
      "execution_count": 22,
      "outputs": []
    },
    {
      "cell_type": "code",
      "source": [
        "history = model.fit(X_train, y_train, epochs=num_epochs, batch_size=32, validation_data=(X_test, y_test))"
      ],
      "metadata": {
        "colab": {
          "base_uri": "https://localhost:8080/"
        },
        "id": "E5p9YV1z56Bn",
        "outputId": "fba0b34c-4886-4b72-a5d4-676772101d42"
      },
      "execution_count": 23,
      "outputs": [
        {
          "output_type": "stream",
          "name": "stdout",
          "text": [
            "Epoch 1/10\n",
            "\u001b[1m4/4\u001b[0m \u001b[32m━━━━━━━━━━━━━━━━━━━━\u001b[0m\u001b[37m\u001b[0m \u001b[1m3s\u001b[0m 166ms/step - accuracy: 0.6777 - loss: 0.9886 - val_accuracy: 0.3333 - val_loss: 1.3270\n",
            "Epoch 2/10\n",
            "\u001b[1m4/4\u001b[0m \u001b[32m━━━━━━━━━━━━━━━━━━━━\u001b[0m\u001b[37m\u001b[0m \u001b[1m1s\u001b[0m 33ms/step - accuracy: 0.7685 - loss: 0.9032 - val_accuracy: 0.3333 - val_loss: 1.6175\n",
            "Epoch 3/10\n",
            "\u001b[1m4/4\u001b[0m \u001b[32m━━━━━━━━━━━━━━━━━━━━\u001b[0m\u001b[37m\u001b[0m \u001b[1m0s\u001b[0m 39ms/step - accuracy: 0.8327 - loss: 0.8030 - val_accuracy: 0.3333 - val_loss: 1.9322\n",
            "Epoch 4/10\n",
            "\u001b[1m4/4\u001b[0m \u001b[32m━━━━━━━━━━━━━━━━━━━━\u001b[0m\u001b[37m\u001b[0m \u001b[1m0s\u001b[0m 24ms/step - accuracy: 0.7923 - loss: 0.7600 - val_accuracy: 0.3333 - val_loss: 2.2761\n",
            "Epoch 5/10\n",
            "\u001b[1m4/4\u001b[0m \u001b[32m━━━━━━━━━━━━━━━━━━━━\u001b[0m\u001b[37m\u001b[0m \u001b[1m0s\u001b[0m 23ms/step - accuracy: 0.8217 - loss: 0.6603 - val_accuracy: 0.3333 - val_loss: 2.6699\n",
            "Epoch 6/10\n",
            "\u001b[1m4/4\u001b[0m \u001b[32m━━━━━━━━━━━━━━━━━━━━\u001b[0m\u001b[37m\u001b[0m \u001b[1m0s\u001b[0m 25ms/step - accuracy: 0.8363 - loss: 0.6251 - val_accuracy: 0.3333 - val_loss: 3.0184\n",
            "Epoch 7/10\n",
            "\u001b[1m4/4\u001b[0m \u001b[32m━━━━━━━━━━━━━━━━━━━━\u001b[0m\u001b[37m\u001b[0m \u001b[1m0s\u001b[0m 26ms/step - accuracy: 0.8269 - loss: 0.5741 - val_accuracy: 0.3333 - val_loss: 3.3364\n",
            "Epoch 8/10\n",
            "\u001b[1m4/4\u001b[0m \u001b[32m━━━━━━━━━━━━━━━━━━━━\u001b[0m\u001b[37m\u001b[0m \u001b[1m0s\u001b[0m 24ms/step - accuracy: 0.8137 - loss: 0.5421 - val_accuracy: 0.3333 - val_loss: 3.6016\n",
            "Epoch 9/10\n",
            "\u001b[1m4/4\u001b[0m \u001b[32m━━━━━━━━━━━━━━━━━━━━\u001b[0m\u001b[37m\u001b[0m \u001b[1m0s\u001b[0m 23ms/step - accuracy: 0.8252 - loss: 0.4882 - val_accuracy: 0.3333 - val_loss: 3.8039\n",
            "Epoch 10/10\n",
            "\u001b[1m4/4\u001b[0m \u001b[32m━━━━━━━━━━━━━━━━━━━━\u001b[0m\u001b[37m\u001b[0m \u001b[1m0s\u001b[0m 24ms/step - accuracy: 0.8285 - loss: 0.4496 - val_accuracy: 0.3333 - val_loss: 3.8780\n"
          ]
        }
      ]
    },
    {
      "cell_type": "markdown",
      "source": [
        "# Evaluating our Model\n",
        "Now, let's see how our model did!"
      ],
      "metadata": {
        "id": "WvMHzFDs6Kk4"
      }
    },
    {
      "cell_type": "code",
      "source": [
        "loss, accuracy = model.evaluate(X_test, y_test)\n",
        "print(f\"Validation Accuracy: {accuracy:.4f}\")"
      ],
      "metadata": {
        "colab": {
          "base_uri": "https://localhost:8080/"
        },
        "id": "lMLkhYCs6PpO",
        "outputId": "71c573b5-7052-40f7-bc7e-433a4a9d35c0"
      },
      "execution_count": 24,
      "outputs": [
        {
          "output_type": "stream",
          "name": "stdout",
          "text": [
            "\u001b[1m1/1\u001b[0m \u001b[32m━━━━━━━━━━━━━━━━━━━━\u001b[0m\u001b[37m\u001b[0m \u001b[1m0s\u001b[0m 74ms/step - accuracy: 0.3333 - loss: 3.8780\n",
            "Validation Accuracy: 0.3333\n"
          ]
        }
      ]
    },
    {
      "cell_type": "code",
      "source": [
        "plt.plot(range(1, num_epochs + 1), history.history['loss'], label='Training Loss')\n",
        "plt.plot(range(1, num_epochs + 1), history.history['accuracy'], label='Training Accuracy')\n",
        "\n",
        "plt.xlabel('Epoch')\n",
        "plt.ylabel('Performance')\n",
        "plt.legend()\n",
        "plt.show()"
      ],
      "metadata": {
        "colab": {
          "base_uri": "https://localhost:8080/",
          "height": 453
        },
        "id": "vy_IcB-W64uZ",
        "outputId": "13fe9401-30a5-4989-8215-516cc6c1ccf6"
      },
      "execution_count": 25,
      "outputs": [
        {
          "output_type": "display_data",
          "data": {
            "text/plain": [
              "<Figure size 640x480 with 1 Axes>"
            ],
            "image/png": "[encoded data removed]"
          },
          "metadata": {}
        }
      ]
    }
  ]
}